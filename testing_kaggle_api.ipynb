{
 "cells": [
  {
   "cell_type": "code",
   "execution_count": 10,
   "id": "f42ccec6-0928-4454-99f5-dcd19f860488",
   "metadata": {
    "tags": []
   },
   "outputs": [],
   "source": [
    "import os\n",
    "import json\n",
    "import kaggle\n",
    "with open(\"kaggle.json\") as f:\n",
    "    j = json.load(f)\n",
    "os.environ['KAGGLE_USERNAME'] = j['username']\n",
    "os.environ['KAGGLE_KEY'] = j['key']"
   ]
  },
  {
   "cell_type": "code",
   "execution_count": 11,
   "id": "17025e6c-9f77-4839-a549-75de08bc8f0e",
   "metadata": {
    "tags": []
   },
   "outputs": [
    {
     "data": {
      "text/plain": [
       "'hridayasaboome16b174'"
      ]
     },
     "execution_count": 11,
     "metadata": {},
     "output_type": "execute_result"
    }
   ],
   "source": [
    "kaggle.api.get_config_value(\"username\")"
   ]
  },
  {
   "cell_type": "code",
   "execution_count": 12,
   "id": "396cef46-f107-4331-9f9b-f459fd77bb2c",
   "metadata": {
    "tags": []
   },
   "outputs": [
    {
     "data": {
      "text/plain": [
       "[https://www.kaggle.com/competitions/vesuvius-challenge-ink-detection,\n",
       " https://www.kaggle.com/competitions/asl-signs,\n",
       " https://www.kaggle.com/competitions/tlvmc-parkinsons-freezing-gait-prediction,\n",
       " https://www.kaggle.com/competitions/amp-parkinsons-disease-progression-prediction,\n",
       " https://www.kaggle.com/competitions/lux-ai-season-2,\n",
       " https://www.kaggle.com/competitions/predict-student-performance-from-game-play,\n",
       " https://www.kaggle.com/competitions/icecube-neutrinos-in-deep-ice,\n",
       " https://www.kaggle.com/competitions/stable-diffusion-image-to-prompts,\n",
       " https://www.kaggle.com/competitions/birdclef-2023,\n",
       " https://www.kaggle.com/competitions/benetech-making-graphs-accessible,\n",
       " https://www.kaggle.com/competitions/playground-series-s3e11,\n",
       " https://www.kaggle.com/competitions/titanic,\n",
       " https://www.kaggle.com/competitions/house-prices-advanced-regression-techniques,\n",
       " https://www.kaggle.com/competitions/spaceship-titanic,\n",
       " https://www.kaggle.com/competitions/digit-recognizer,\n",
       " https://www.kaggle.com/competitions/nlp-getting-started,\n",
       " https://www.kaggle.com/competitions/connectx,\n",
       " https://www.kaggle.com/competitions/tpu-getting-started,\n",
       " https://www.kaggle.com/competitions/store-sales-time-series-forecasting,\n",
       " https://www.kaggle.com/competitions/gan-getting-started]"
      ]
     },
     "execution_count": 12,
     "metadata": {},
     "output_type": "execute_result"
    }
   ],
   "source": [
    "kaggle.api.competitions_list()"
   ]
  },
  {
   "cell_type": "code",
   "execution_count": null,
   "id": "e3008430-1f6e-480f-a177-2395c9942640",
   "metadata": {},
   "outputs": [],
   "source": []
  }
 ],
 "metadata": {
  "kernelspec": {
   "display_name": "test_env_kernel",
   "language": "python",
   "name": "test_env_kernel"
  },
  "language_info": {
   "codemirror_mode": {
    "name": "ipython",
    "version": 3
   },
   "file_extension": ".py",
   "mimetype": "text/x-python",
   "name": "python",
   "nbconvert_exporter": "python",
   "pygments_lexer": "ipython3",
   "version": "3.8.16"
  }
 },
 "nbformat": 4,
 "nbformat_minor": 5
}
